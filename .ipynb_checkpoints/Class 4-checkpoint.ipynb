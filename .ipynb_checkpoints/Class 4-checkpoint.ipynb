{
 "cells": [
  {
   "cell_type": "markdown",
   "id": "bbc443b9-7f74-4510-a28f-2aa62910cd71",
   "metadata": {},
   "source": [
    "# Problem 1\n",
    "\n",
    "## Anagram Check\n",
    "Create a function, 'anagram_check', the receives two arguments of type string and determines if these are anagrams of each other (criteria below), returning 'True' if these are anagrams of each other, 'False' otherwise.\n",
    "\n",
    "## Criteria \n",
    "Two strings are anagrams of each other if, and only if, all the criteria below are met:\n",
    "1. They must contain the same amount of letters.\n",
    "2. THey must use the same letters the same amount of times.\n",
    "\n",
    "## Examples\n",
    "```\n",
    "heart and earth\n",
    "cars and scar\n",
    "rats and star\n",
    "```\n",
    "\n",
    "## Note \n",
    "The three examples above are just examples, there may be other strings (many) that meet the criteria above."
   ]
  },
  {
   "cell_type": "code",
   "execution_count": 32,
   "id": "91720c3f-6898-42b2-8f1a-a4ca2b4c07ad",
   "metadata": {},
   "outputs": [],
   "source": [
    "# def  function anagram check with (str1, str2)\n",
    "#    turn all letters in string1 to lowercase without spaces\n",
    "#    turn all letrts in string2 to lowercase without spaces\n",
    "#    check if strings are same length\n",
    "#       if not,\n",
    "#            false\n",
    "#     start a dictionary for the character numbers\n",
    "#     count the number of charcters in string 1\n",
    "#     subtact the number of characters in string 2 from string 2\n",
    "#     check if char_count = 0\n",
    "#           return false\n",
    "#     return true if all criteria met\n",
    " \n",
    "    \n",
    "def anagram_check(str1, str2):\n",
    "    str1 = str1.lower().replace(\" \", \"\")\n",
    "    str2 = str2.lower().replace(\" \", \"\")\n",
    "    if len(str1) != len(str2):\n",
    "        return False\n",
    "\n",
    "    char_count = {}\n",
    "\n",
    "    for char in str1:\n",
    "        if char in char_count:\n",
    "            char_count[char] += 1\n",
    "        else:\n",
    "            char_count[char] = 1\n",
    "\n",
    "    for char in str2:\n",
    "        if char in char_count:\n",
    "            char_count[char] -= 1\n",
    "        else:\n",
    "            return False\n",
    "            \n",
    "    \n",
    "    for _, value in char_count.items():\n",
    "        if value != 0:\n",
    "            return False\n",
    "            \n",
    "    return True\n",
    "            \n",
    "    \n",
    "        \n",
    "    "
   ]
  },
  {
   "cell_type": "code",
   "execution_count": 26,
   "id": "9085bebb-84c1-45c4-b132-7d64602b4c36",
   "metadata": {},
   "outputs": [
    {
     "data": {
      "text/plain": [
       "True"
      ]
     },
     "execution_count": 26,
     "metadata": {},
     "output_type": "execute_result"
    }
   ],
   "source": [
    "anagram_check(\"heart\", \"earth\")"
   ]
  },
  {
   "cell_type": "code",
   "execution_count": 33,
   "id": "b6608382-5aac-4856-b0ef-285e5a1d4d29",
   "metadata": {},
   "outputs": [
    {
     "data": {
      "text/plain": [
       "True"
      ]
     },
     "execution_count": 33,
     "metadata": {},
     "output_type": "execute_result"
    }
   ],
   "source": [
    "anagram_check(\"I am Lord Voldemort\", \"Tom Marvolo Riddle\")"
   ]
  },
  {
   "cell_type": "markdown",
   "id": "1cef1041-f848-4b4c-915b-1747477f9a26",
   "metadata": {},
   "source": [
    "# Final Problem\n",
    "\n",
    "Fiven what you've learned about singly linked lists:\n",
    "1. First: Copy the Singly Linked List from class 3, then\n",
    "2. Update it, so that it uses a doubly linked node,\n",
    "3. Then: complete the operations.\n",
    "\n",
    "## Note\n",
    "You will need to `refactor` the code to get it to work, as each operation is not twice as complex."
   ]
  },
  {
   "cell_type": "code",
   "execution_count": null,
   "id": "162c4f60-3e9f-4f75-ac50-6b4261f84220",
   "metadata": {},
   "outputs": [],
   "source": []
  }
 ],
 "metadata": {
  "kernelspec": {
   "display_name": "Python 3 (ipykernel)",
   "language": "python",
   "name": "python3"
  },
  "language_info": {
   "codemirror_mode": {
    "name": "ipython",
    "version": 3
   },
   "file_extension": ".py",
   "mimetype": "text/x-python",
   "name": "python",
   "nbconvert_exporter": "python",
   "pygments_lexer": "ipython3",
   "version": "3.12.3"
  }
 },
 "nbformat": 4,
 "nbformat_minor": 5
}
