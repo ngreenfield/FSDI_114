{
 "cells": [
  {
   "cell_type": "markdown",
   "id": "6893b665-d68f-4584-9dae-d9174f4a84f3",
   "metadata": {},
   "source": [
    "# Stacks\n",
    "\n",
    "A *stack* is an ordered collection of elements where items are added and removed from the same end, commonly know at the *top*"
   ]
  },
  {
   "cell_type": "code",
   "execution_count": 1,
   "id": "bcd5ac39-9fb4-4541-a54a-0fdd36638122",
   "metadata": {},
   "outputs": [],
   "source": [
    "# Simplified implementation of Stack (replying on built-ins)\n",
    "\n",
    "class Stack:\n",
    "    def __init__(self):\n",
    "        self.items = []  # this is a python3 list\n",
    "\n",
    "    def push(self, value):\n",
    "        self.items.append(value)\n",
    "\n",
    "    def pop(self):\n",
    "        return self.items.pop()\n",
    "\n",
    "    # Nice to have methods:\n",
    "    def peek(self):\n",
    "        return self.items[len(self.items)-1]\n",
    "\n",
    "    def is_empty(self):\n",
    "        return self.items == []\n",
    "\n",
    "    def size(self):\n",
    "        return len(self.items)\n",
    "    "
   ]
  },
  {
   "cell_type": "markdown",
   "id": "9ba91842-6fa0-4641-85d4-ed2a181fb037",
   "metadata": {},
   "source": [
    "## Problem 1\n",
    "\n",
    "Create a function called invert_str that receives a string as a parameter and returns it in inverted order as a result.\n",
    "\n",
    "## Examples\n",
    "```\n",
    "rafael -> leafar\n",
    "earth -> htrae\n",
    "hello -> olleh\n",
    "world -> drlow\n",
    "```\n",
    "\n",
    "### Acceptance Criteria\n",
    "1. Your final solution absolutely must make use of the stack class above.\n",
    "2. You should, at a minimum, be able to present your design for your solution (pseudocode recommended, but you *can* use flowcharts)."
   ]
  },
  {
   "cell_type": "code",
   "execution_count": 8,
   "id": "dd5b2f86-7d37-4823-bb51-afa668d3d451",
   "metadata": {},
   "outputs": [
    {
     "name": "stdout",
     "output_type": "stream",
     "text": [
      "world\n"
     ]
    }
   ],
   "source": [
    "def invert_str(input_string):\n",
    "    stack = Stack()\n",
    "    for char in input_string:\n",
    "        stack.push(char)\n",
    "    result = \"\"\n",
    "    while not stack.is_empty():\n",
    "        result += stack.pop()\n",
    "    return result\n",
    "\n",
    "print(invert_str(\"dlrow\")) # result should be \"world\""
   ]
  },
  {
   "cell_type": "code",
   "execution_count": null,
   "id": "74635af7-03c4-44b3-8d72-42cb9f81d827",
   "metadata": {},
   "outputs": [],
   "source": []
  }
 ],
 "metadata": {
  "kernelspec": {
   "display_name": "Python 3 (ipykernel)",
   "language": "python",
   "name": "python3"
  },
  "language_info": {
   "codemirror_mode": {
    "name": "ipython",
    "version": 3
   },
   "file_extension": ".py",
   "mimetype": "text/x-python",
   "name": "python",
   "nbconvert_exporter": "python",
   "pygments_lexer": "ipython3",
   "version": "3.12.3"
  }
 },
 "nbformat": 4,
 "nbformat_minor": 5
}
